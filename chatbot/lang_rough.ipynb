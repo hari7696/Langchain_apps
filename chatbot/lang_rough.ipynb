{
 "cells": [
  {
   "cell_type": "markdown",
   "metadata": {},
   "source": [
    "##### simple chatgpt prompt communication with api key"
   ]
  },
  {
   "cell_type": "code",
   "execution_count": 1,
   "metadata": {},
   "outputs": [
    {
     "data": {
      "text/plain": [
       "'3 + 2 equals 5.'"
      ]
     },
     "execution_count": 1,
     "metadata": {},
     "output_type": "execute_result"
    }
   ],
   "source": [
    "#the core will prompts and output parsers\n",
    "\n",
    "from langchain_core.prompts import ChatPromptTemplate\n",
    "from langchain_core.output_parsers import StrOutputParser\n",
    "from langchain_openai import ChatOpenAI\n",
    "import os \n",
    "from dotenv import load_dotenv\n",
    "load_dotenv(\"../venv/.env\")\n",
    "\n",
    "question = \"\"\n",
    "\n",
    "# to create basic communications\n",
    "# we neec a llm model, a chatprompttemplate, a output parser. the outputparser and chatprompttemplate comes from langchain_core and ChatOpenAI comes from langchain_{api_name}\n",
    "\n",
    "llm_nodel = ChatOpenAI(model = 'gpt-3.5-turbo', api_key= os.getenv(\"OPENAI_API_KEY2\"))\n",
    "chat_template = ChatPromptTemplate.from_messages([(\"system\" , \" you are genius math professor\"), (\"user\" , \"Question{question}\")])\n",
    "outputparser = StrOutputParser()\n",
    "chain = chat_template|llm_nodel|outputparser\n",
    "\n",
    "question = \"whats 3+2\"\n",
    "chain.invoke({'question' : question})"
   ]
  },
  {
   "cell_type": "code",
   "execution_count": 2,
   "metadata": {},
   "outputs": [
    {
     "data": {
      "text/plain": [
       "' x and y. The function should return the sum of the two numbers. \\n\\nAnswer: [code](https://github.com/siddhant-kumari/Algorithms/blob/main/Python/Sum_of_two_numbers/add.py)\\n'"
      ]
     },
     "execution_count": 2,
     "metadata": {},
     "output_type": "execute_result"
    }
   ],
   "source": [
    "from langchain_community.llms import Ollama\n",
    "from langchain_core.prompts import ChatPromptTemplate\n",
    "from langchain_core.output_parsers import StrOutputParser \n",
    "import os \n",
    "from dotenv import load_dotenv\n",
    "load_dotenv(r'../venv/.env')\n",
    "\n",
    "# following env variables is for langsmith tracing\n",
    "os.environ[\"LANGCHAIN_API_KEY\"]=os.getenv(\"LANGCHAIN_API_KEY\")\n",
    "os.environ[\"LANGCHAIN_TRACING_V2\"]=\"true\"\n",
    "os.environ[\"LANGCHAIN_PROJECT\"] = \"ollamastart\"\n",
    "\n",
    "llm_model = Ollama(model= \"starcoder:1b\")\n",
    "# ollama run starcoder:1b\n",
    "# ollama run qwen2:0.5b\n",
    "#ollama run tinyllama\n",
    "chat_template = ChatPromptTemplate.from_messages([(\"system\" , \" you are experienced programer\"), (\"user\" , \"Question{question}\")])\n",
    "outputparser = StrOutputParser()\n",
    "chain = chat_template|llm_model|outputparser\n",
    "\n",
    "question = \"provide a python code to perform a addition operations, write a function that takes 2 parameters\"\n",
    "chain.invoke({'question' : question})"
   ]
  },
  {
   "cell_type": "markdown",
   "metadata": {},
   "source": [
    "#### why lang chain is a bad idea?\n",
    "https://news.ycombinator.com/item?id=40739982"
   ]
  },
  {
   "cell_type": "markdown",
   "metadata": {},
   "source": []
  }
 ],
 "metadata": {
  "kernelspec": {
   "display_name": "llm",
   "language": "python",
   "name": "python3"
  },
  "language_info": {
   "codemirror_mode": {
    "name": "ipython",
    "version": 3
   },
   "file_extension": ".py",
   "mimetype": "text/x-python",
   "name": "python",
   "nbconvert_exporter": "python",
   "pygments_lexer": "ipython3",
   "version": "3.10.14"
  }
 },
 "nbformat": 4,
 "nbformat_minor": 2
}
