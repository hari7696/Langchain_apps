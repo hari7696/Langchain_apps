{
 "cells": [
  {
   "cell_type": "code",
   "execution_count": 13,
   "metadata": {},
   "outputs": [],
   "source": [
    "from langchain_community.document_loaders import WebBaseLoader, TextLoader, PyPDFLoader\n",
    "from langchain_openai import ChatOpenAI\n",
    "import bs4\n",
    "import os\n",
    "from dotenv import load_dotenv\n",
    "\n",
    "load_dotenv(r'../venv/.env')\n",
    "\n",
    "os.environ[\"OPENAI_API_KEY\"] = os.getenv(\"OPENAI_API_KEY2\")\n"
   ]
  },
  {
   "cell_type": "markdown",
   "metadata": {},
   "source": [
    "#### Loading"
   ]
  },
  {
   "cell_type": "code",
   "execution_count": 2,
   "metadata": {},
   "outputs": [],
   "source": [
    "# text loading\n",
    "loader = TextLoader(\"input.txt\")\n",
    "text_docs=loader.load()\n",
    "# text_documents\n",
    "\n",
    "# web doc loading\n",
    "web_loader = WebBaseLoader(web_paths=(\"https://lilianweng.github.io/posts/2023-06-23-agent/\",),\n",
    "                     bs_kwargs=dict(parse_only=bs4.SoupStrainer(\n",
    "                         class_=(\"post-title\",\"post-content\",\"post-header\")\n",
    "\n",
    "                     )))\n",
    "web_docs = web_loader.load()\n",
    "# web_docs\n",
    "\n",
    "# pdf loading\n",
    "pdf_loader = PyPDFLoader(\"rag_pdf.pdf\", )\n",
    "pdf_docs = pdf_loader.load()\n",
    "# pdf_docs"
   ]
  },
  {
   "cell_type": "markdown",
   "metadata": {},
   "source": [
    "#### Transform"
   ]
  },
  {
   "cell_type": "code",
   "execution_count": 6,
   "metadata": {},
   "outputs": [],
   "source": [
    "pdf_docs.extend(web_docs)\n",
    "pdf_docs.extend(text_docs)"
   ]
  },
  {
   "cell_type": "code",
   "execution_count": 7,
   "metadata": {},
   "outputs": [],
   "source": [
    "from langchain.text_splitter import RecursiveCharacterTextSplitter\n",
    "text_splitter = RecursiveCharacterTextSplitter(chunk_size = 1000, chunk_overlap = 200 )\n",
    "documents = text_splitter.split_documents(pdf_docs)\n"
   ]
  },
  {
   "cell_type": "code",
   "execution_count": 9,
   "metadata": {},
   "outputs": [
    {
     "data": {
      "text/plain": [
       "88"
      ]
     },
     "execution_count": 9,
     "metadata": {},
     "output_type": "execute_result"
    }
   ],
   "source": [
    "len(documents)"
   ]
  },
  {
   "cell_type": "markdown",
   "metadata": {},
   "source": [
    "#### embeddings"
   ]
  },
  {
   "cell_type": "code",
   "execution_count": 10,
   "metadata": {},
   "outputs": [],
   "source": [
    "from langchain_openai import OpenAIEmbeddings\n",
    "from langchain_community.embeddings import OllamaEmbeddings\n",
    "from langchain_community.vectorstores import Chroma \n",
    "\n",
    "db = Chroma.from_documents(documents, OpenAIEmbeddings())"
   ]
  },
  {
   "cell_type": "code",
   "execution_count": 11,
   "metadata": {},
   "outputs": [
    {
     "data": {
      "text/plain": [
       "Document(page_content='academic misconduct to appropriate personnel. If you have any questions or concerns, please consult with the \\ninstructor or TAs in this class.  \\n \\nCommitment to a Safe and Inclusive Learning Environment  \\nThe Herbert Wertheim College of Engineering values varied perspectives and lived experiences within our \\ncommunity and is committed to supporting the University’s core values, including the elimi nation of discrimination.  \\nIt is expected that every person in this class will treat one another with dignity and respect regardless of race, creed, \\ncolor, religion, age, disability, sex, sexual orientation, gender identity and expression, marital status, national origin, \\npolitical opinions or affiliations, genetic information, and veteran status.', metadata={'page': 2, 'source': 'rag_pdf.pdf'})"
      ]
     },
     "execution_count": 11,
     "metadata": {},
     "output_type": "execute_result"
    }
   ],
   "source": [
    "# querying vector database\n",
    "query = \"instructor name\"\n",
    "db.similarity_search(query)[0]"
   ]
  },
  {
   "cell_type": "code",
   "execution_count": 21,
   "metadata": {},
   "outputs": [],
   "source": [
    "# chatprompt template\n",
    "from langchain_core.prompts import ChatPromptTemplate\n",
    "\n",
    "prompt = ChatPromptTemplate.from_template(\"\"\" Answer the followig question only using the following context.\n",
    "                                            <context>\n",
    "                                          {context}\n",
    "                                          </context>\n",
    "                                          Question : {input}\n",
    "\n",
    "\"\"\")\n"
   ]
  },
  {
   "cell_type": "code",
   "execution_count": 26,
   "metadata": {},
   "outputs": [],
   "source": [
    "\n",
    "from langchain.chains.combine_documents import create_stuff_documents_chain\n",
    "from langchain.chains.retrieval import create_retrieval_chain\n",
    "\n",
    "llm = ChatOpenAI()\n",
    "retriever = db.as_retriever()\n",
    "\n",
    "document_chain = create_stuff_documents_chain(llm, prompt)\n",
    "retrieval_chain = create_retrieval_chain(retriever, document_chain)\n",
    "\n"
   ]
  },
  {
   "cell_type": "code",
   "execution_count": 28,
   "metadata": {},
   "outputs": [
    {
     "data": {
      "text/plain": [
       "{'input': 'who are the teaching assistants for this course CDA 5155: Computer Architecture Principles, just give me names nothing else',\n",
       " 'context': [Document(page_content='CDA 5155: Computer Architecture Principles                                                                                                                                             Page 1 \\nPrabhat Mishra, Fall  2023  CDA 5155: Computer Architecture Principles  \\nSections: 28700  \\nClass Periods:    Tuesday  3:00 – 4:55 pm and Thursday 4:05 – 4:55 pm  \\nLocation:    CSE E121  \\nAcademic Term:   Fall 2023  \\n \\nInstructor:  \\nName : Prabhat Mishra  \\nEmail Address : prabhat@ufl.edu  \\nOffice Phone Number : 352 294 6658  \\nOffice Hours:   Wednesday  3:00 – 5:00 pm in CSE 568   \\n \\nTeaching Assistants:   \\nName : Anisha Ashok Wadhwani  \\nEmail Address: a.wadhwani @ufl.edu  \\nOffice Hours:   Monday 3:00 – 5:00 pm in CSE 309  \\n \\nName : Uma Saisree Avula  \\nEmail Address: umasaisree.avula @ufl.edu  \\nOffice Hours:   Tuesday 1:55 – 2:45 pm in CSE 309  \\n \\nCourse Description  \\nFundamental design issues of processor and computer architecture, a variety of design approaches for CPU,', metadata={'page': 0, 'source': 'rag_pdf.pdf'}),\n",
       "  Document(page_content='CDA 5155: Computer Architecture Principles                                                                                                                                             Page 5 \\nPrabhat Mishra, Fall  2023   \\nWriting Studio, 302 Tigert Hall , 846 -1138. Help brainstorming, formatting, and writing papers. \\nhttps://writing.ufl.edu/writing -studio/ . \\n \\nStudent Complaints Campus : https://sccr.dso.ufl.edu/policies/student -honor -code -student -conduct -code/ ; \\nhttps://care.dso.ufl.edu . \\n \\nOn-Line Students Complaints : https://distance.ufl.edu/getting -help/ ;  https://distance.ufl.edu/state -\\nauthorization -status/#stu dent -complaint .', metadata={'page': 4, 'source': 'rag_pdf.pdf'}),\n",
       "  Document(page_content='CDA 5155: Computer Architecture Principles                                                                                                                                             Page 3 \\nPrabhat Mishra, Fall  2023  Students Requiring Accommodations  \\nStudents with disabilities who experience learning barriers and would like to request academic accommodations \\nshould connect with the disability Resource Center by visiting https://disability .ufl.edu/students/get -started/ .  It is \\nimportant for students to share their accommodation letter with their instructor and discuss their access needs, as \\nearly as possible in the semester.  \\n \\n \\nCourse Evaluation  \\nStudents are expected to provide professional  and respectful feedback on the quality of instruction in this course by \\ncompleting course evaluations online via GatorEvals. Guidance on how to give feedback in a professional and', metadata={'page': 2, 'source': 'rag_pdf.pdf'}),\n",
       "  Document(page_content='Office Hours:   Tuesday 1:55 – 2:45 pm in CSE 309  \\n \\nCourse Description  \\nFundamental design issues of processor and computer architecture, a variety of design approaches for CPU, \\nmemory, and system structure . 3 credits.  \\n \\nCourse Pre -Requisites / Co -Requisites  \\nCDA 3101, COP 3530, and COP 4600  \\n \\nCourse Objectives  \\nThis course teaches students fundamental knowledge in computer architecture and microarchitecture. The course \\ncovers the basic organizations of computer systems including instruction -set architecture, execution pipeline, \\nmemory hierarchy, and I/O subsystem. It also addresses advanced processor microarchitecture issues such as \\ndynamic instruction scheduling,  branch prediction, lock -up free caches, instruction -level parallelism, multiple \\ninstruction fetch/issuing, speculative execution, etc. to improve computer processor performance. Shared -memory', metadata={'page': 0, 'source': 'rag_pdf.pdf'})],\n",
       " 'answer': 'Anisha Ashok Wadhwani and Uma Saisree Avula'}"
      ]
     },
     "execution_count": 28,
     "metadata": {},
     "output_type": "execute_result"
    }
   ],
   "source": [
    "retrieval_chain.invoke({\"input\" : \"who are the teaching assistants for this course CDA 5155: Computer Architecture Principles, just give me names nothing else\"})"
   ]
  },
  {
   "cell_type": "code",
   "execution_count": 25,
   "metadata": {},
   "outputs": [
    {
     "data": {
      "text/plain": [
       "{'input': 'In this context, what the university is being discussed',\n",
       " 'context': [Document(page_content='governing software use.  Failure to do so can lead to monetary damages and/or criminal penalties for the individual \\nviolator.  Because such violations are also against University policies and rul es, disciplinary action will be taken as \\nappropriate.  We, the members of the University of Florida community, pledge to uphold ourselves and our peers to \\nthe highest standards of honesty and integrity.  \\n \\nStudent Privacy  \\nThere are federal laws protecting yo ur privacy with regards to grades earned in courses and on individual \\nassignments.  For more information, please see:  https://registrar.ufl.edu/ferpa.html  \\n \\nCampus Resources:  \\nHealth and Wellness  \\nU Matt er, We Care:  \\nYour well -being is important to the University of Florida.   The U Matter, We Care initiative is committed to \\ncreating a culture of care on our campus by encouraging members of our community to look out for one another', metadata={'page': 3, 'source': 'rag_pdf.pdf'}),\n",
       "  Document(page_content='academic misconduct to appropriate personnel. If you have any questions or concerns, please consult with the \\ninstructor or TAs in this class.  \\n \\nCommitment to a Safe and Inclusive Learning Environment  \\nThe Herbert Wertheim College of Engineering values varied perspectives and lived experiences within our \\ncommunity and is committed to supporting the University’s core values, including the elimi nation of discrimination.  \\nIt is expected that every person in this class will treat one another with dignity and respect regardless of race, creed, \\ncolor, religion, age, disability, sex, sexual orientation, gender identity and expression, marital status, national origin, \\npolitical opinions or affiliations, genetic information, and veteran status.', metadata={'page': 2, 'source': 'rag_pdf.pdf'}),\n",
       "  Document(page_content='connection with a comp laint to the university, or (3) as evidence in, or in preparation for, a criminal or civil \\nproceeding. All other purposes are prohibited. Specifically, students may not publish recorded lectures without the \\nwritten consent of the instructor.  \\nA “class lect ure” is an educational presentation intended to inform or teach enrolled students about a particular \\nsubject, including any instructor -led discussions that form part of the presentation, and delivered by any instructor \\nhired or appointed by the University,  or by a guest instructor, as part of a University of Florida course. A class lecture \\ndoes not include lab sessions, student presentations, clinical presentations such as patient history, academic \\nexercises involving solely student participation, assessmen ts (quizzes, tests, exams), field trips, private \\nconversations between students in the class or between a student and the faculty or lecturer during a class session.', metadata={'page': 2, 'source': 'rag_pdf.pdf'}),\n",
       "  Document(page_content='conversations between students in the class or between a student and the faculty or lecturer during a class session.  \\nPublication without permission of the instructor is prohibited. To “publish” means to sha re, transmit, circulate, \\ndistribute, or provide access to a recording, regardless of format or medium, to another person (or persons), \\nincluding but not limited to another student within the same class section. Additionally, a recording, or transcript of \\na recording, is considered published if it is posted on or uploaded to, in whole or in part, any media platform, \\nincluding but not limited to social media, book, magazine, newspaper, leaflet, or third party note/tutoring services. \\nA student who publishes a recording without written consent may be subject to a civil cause of action instituted by \\na person injured by the publication and/or discipline under UF Regulation 4.040 Student Honor Code and Student \\nConduct Code.  \\nUniversity Honesty Policy', metadata={'page': 2, 'source': 'rag_pdf.pdf'})],\n",
       " 'answer': 'The University of Florida.'}"
      ]
     },
     "execution_count": 25,
     "metadata": {},
     "output_type": "execute_result"
    }
   ],
   "source": [
    "retrieval_chain.invoke({\"input\" : \"In this context, what the university is being discussed\"})"
   ]
  },
  {
   "cell_type": "code",
   "execution_count": null,
   "metadata": {},
   "outputs": [],
   "source": []
  }
 ],
 "metadata": {
  "kernelspec": {
   "display_name": "llm",
   "language": "python",
   "name": "python3"
  },
  "language_info": {
   "codemirror_mode": {
    "name": "ipython",
    "version": 3
   },
   "file_extension": ".py",
   "mimetype": "text/x-python",
   "name": "python",
   "nbconvert_exporter": "python",
   "pygments_lexer": "ipython3",
   "version": "3.10.14"
  }
 },
 "nbformat": 4,
 "nbformat_minor": 2
}
